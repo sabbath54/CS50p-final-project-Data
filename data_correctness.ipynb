{
 "cells": [
  {
   "cell_type": "code",
   "execution_count": 1,
   "metadata": {},
   "outputs": [],
   "source": [
    "import pandas as pd"
   ]
  },
  {
   "cell_type": "code",
   "execution_count": 2,
   "metadata": {},
   "outputs": [],
   "source": [
    "# Read file and show head\n",
    "df = pd.read_csv(r\"C:\\Users\\lukas\\Code\\Scrapers\\merged_data.csv\", encoding_errors=\"ignore\")\n",
    "df.index += 1"
   ]
  },
  {
   "cell_type": "code",
   "execution_count": 3,
   "metadata": {},
   "outputs": [
    {
     "name": "stdout",
     "output_type": "stream",
     "text": [
      "            seniority  count\n",
      "0                 mid    183\n",
      "1              senior    163\n",
      "2        Mid, Senior      91\n",
      "3                Mid      85\n",
      "4             Senior      77\n",
      "5     Senior, Expert      26\n",
      "6              junior     24\n",
      "7             Junior      13\n",
      "8             Expert       7\n",
      "9    Trainee, Junior       4\n",
      "10           Trainee       1\n"
     ]
    }
   ],
   "source": [
    "# Count seniority apperance\n",
    "seniority = df.groupby(\"seniority\")[\"seniority\"].count().reset_index(name=\"count\").sort_values([\"count\"], ascending=False).reset_index(drop=True)\n",
    "df.shape\n",
    "print(seniority)"
   ]
  },
  {
   "cell_type": "code",
   "execution_count": 4,
   "metadata": {},
   "outputs": [],
   "source": [
    "# Define a lambda function to clean up the skills list\n",
    "clean_skills_list = lambda skills_list: [skill.strip().replace(\"[\",'').replace(\"]\",'').replace(\"'\", \"\") for skill in skills_list]\n",
    "# Apply the lambda function to the \"required_skills\" column\n",
    "df[\"required_skills\"] = df[\"required_skills\"].apply(clean_skills_list)"
   ]
  },
  {
   "cell_type": "code",
   "execution_count": 5,
   "metadata": {},
   "outputs": [],
   "source": [
    "# Save current dataframe to csv\n",
    "df.to_csv(\"Final_data.csv\", index=False)"
   ]
  }
 ],
 "metadata": {
  "kernelspec": {
   "display_name": "Python 3",
   "language": "python",
   "name": "python3"
  },
  "language_info": {
   "codemirror_mode": {
    "name": "ipython",
    "version": 3
   },
   "file_extension": ".py",
   "mimetype": "text/x-python",
   "name": "python",
   "nbconvert_exporter": "python",
   "pygments_lexer": "ipython3",
   "version": "3.11.1"
  },
  "orig_nbformat": 4,
  "vscode": {
   "interpreter": {
    "hash": "3f8b6ed4a49bac3e03591468bfd89e920b32172a39df745a620198442fe4ce17"
   }
  }
 },
 "nbformat": 4,
 "nbformat_minor": 2
}
