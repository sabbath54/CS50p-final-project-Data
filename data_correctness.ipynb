{
 "cells": [
  {
   "cell_type": "code",
   "execution_count": 19,
   "metadata": {},
   "outputs": [],
   "source": [
    "import pandas as pd"
   ]
  },
  {
   "cell_type": "code",
   "execution_count": 37,
   "metadata": {},
   "outputs": [
    {
     "data": {
      "text/html": [
       "<div>\n",
       "<style scoped>\n",
       "    .dataframe tbody tr th:only-of-type {\n",
       "        vertical-align: middle;\n",
       "    }\n",
       "\n",
       "    .dataframe tbody tr th {\n",
       "        vertical-align: top;\n",
       "    }\n",
       "\n",
       "    .dataframe thead th {\n",
       "        text-align: right;\n",
       "    }\n",
       "</style>\n",
       "<table border=\"1\" class=\"dataframe\">\n",
       "  <thead>\n",
       "    <tr style=\"text-align: right;\">\n",
       "      <th></th>\n",
       "      <th>listing_name</th>\n",
       "      <th>categories</th>\n",
       "      <th>seniority</th>\n",
       "      <th>required_skills</th>\n",
       "    </tr>\n",
       "  </thead>\n",
       "  <tbody>\n",
       "    <tr>\n",
       "      <th>1</th>\n",
       "      <td>Programista ds. Automatyzacji Testw</td>\n",
       "      <td>testing</td>\n",
       "      <td>mid</td>\n",
       "      <td>['Java', 'Python', 'JavaScript', 'Selenium', '...</td>\n",
       "    </tr>\n",
       "    <tr>\n",
       "      <th>2</th>\n",
       "      <td>Data Engineer</td>\n",
       "      <td>data</td>\n",
       "      <td>mid</td>\n",
       "      <td>['Python', 'ETL', 'Spark', 'RDBMS', 'PySpark',...</td>\n",
       "    </tr>\n",
       "    <tr>\n",
       "      <th>3</th>\n",
       "      <td>Golang/Python Software Engineer</td>\n",
       "      <td>python</td>\n",
       "      <td>mid</td>\n",
       "      <td>['Python', 'Kubernetes', 'Golang', 'Docker', '...</td>\n",
       "    </tr>\n",
       "    <tr>\n",
       "      <th>4</th>\n",
       "      <td>Big Data Engineer Want-To-Be</td>\n",
       "      <td>data</td>\n",
       "      <td>junior</td>\n",
       "      <td>['Python', 'Java', 'Big Data', 'Scala', 'Cloud...</td>\n",
       "    </tr>\n",
       "    <tr>\n",
       "      <th>5</th>\n",
       "      <td>NLP Developer</td>\n",
       "      <td>python</td>\n",
       "      <td>senior</td>\n",
       "      <td>['NLP', 'Polish', 'English', 'PyTorch', 'AI/ML...</td>\n",
       "    </tr>\n",
       "  </tbody>\n",
       "</table>\n",
       "</div>"
      ],
      "text/plain": [
       "                          listing_name categories seniority  \\\n",
       "1  Programista ds. Automatyzacji Testw    testing       mid   \n",
       "2                        Data Engineer       data       mid   \n",
       "3      Golang/Python Software Engineer     python       mid   \n",
       "4         Big Data Engineer Want-To-Be       data    junior   \n",
       "5                        NLP Developer     python    senior   \n",
       "\n",
       "                                     required_skills  \n",
       "1  ['Java', 'Python', 'JavaScript', 'Selenium', '...  \n",
       "2  ['Python', 'ETL', 'Spark', 'RDBMS', 'PySpark',...  \n",
       "3  ['Python', 'Kubernetes', 'Golang', 'Docker', '...  \n",
       "4  ['Python', 'Java', 'Big Data', 'Scala', 'Cloud...  \n",
       "5  ['NLP', 'Polish', 'English', 'PyTorch', 'AI/ML...  "
      ]
     },
     "execution_count": 37,
     "metadata": {},
     "output_type": "execute_result"
    }
   ],
   "source": [
    "df = pd.read_csv(r\"C:\\Users\\lukas\\Code\\Scrapers\\merged_data.csv\", encoding_errors=\"ignore\")\n",
    "df.index += 1\n",
    "df.head(5)"
   ]
  },
  {
   "cell_type": "code",
   "execution_count": 52,
   "metadata": {},
   "outputs": [
    {
     "name": "stdout",
     "output_type": "stream",
     "text": [
      "         seniority  count\n",
      "0              mid    268\n",
      "1           senior    240\n",
      "2      mid, senior     91\n",
      "3           junior     37\n",
      "4   senior, expert     26\n",
      "5           expert      7\n",
      "6  trainee, junior      4\n",
      "7          trainee      1\n"
     ]
    }
   ],
   "source": [
    "seniority = df.groupby(\"seniority\")[\"seniority\"].count().reset_index(name=\"count\").sort_values([\"count\"], ascending=False).reset_index(drop=True)\n",
    "df.shape\n",
    "print(seniority)"
   ]
  },
  {
   "cell_type": "code",
   "execution_count": 51,
   "metadata": {},
   "outputs": [],
   "source": [
    "df_obj = df.select_dtypes([\"object\"])\n",
    "df[df_obj.columns] = df_obj.apply(lambda x: x.str.strip())\n"
   ]
  },
  {
   "cell_type": "code",
   "execution_count": 55,
   "metadata": {},
   "outputs": [],
   "source": [
    "df.to_csv(\"Final_data.csv\", index=False)"
   ]
  }
 ],
 "metadata": {
  "kernelspec": {
   "display_name": "Python 3",
   "language": "python",
   "name": "python3"
  },
  "language_info": {
   "codemirror_mode": {
    "name": "ipython",
    "version": 3
   },
   "file_extension": ".py",
   "mimetype": "text/x-python",
   "name": "python",
   "nbconvert_exporter": "python",
   "pygments_lexer": "ipython3",
   "version": "3.11.1"
  },
  "orig_nbformat": 4,
  "vscode": {
   "interpreter": {
    "hash": "3f8b6ed4a49bac3e03591468bfd89e920b32172a39df745a620198442fe4ce17"
   }
  }
 },
 "nbformat": 4,
 "nbformat_minor": 2
}
