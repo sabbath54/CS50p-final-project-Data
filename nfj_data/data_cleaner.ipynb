{
 "cells": [
  {
   "cell_type": "code",
   "execution_count": 1,
   "metadata": {},
   "outputs": [],
   "source": [
    "import pandas as pd\n",
    "import numpy as np"
   ]
  },
  {
   "cell_type": "code",
   "execution_count": 2,
   "metadata": {},
   "outputs": [],
   "source": [
    "# Read CSV file to data frame\n",
    "df = pd.read_csv(r\"C:\\Users\\lukas\\Code\\Scrapers\\nfj_data\\working_listings_nfj.csv\", encoding_errors=\"ignore\")"
   ]
  },
  {
   "cell_type": "code",
   "execution_count": 3,
   "metadata": {},
   "outputs": [
    {
     "name": "stdout",
     "output_type": "stream",
     "text": [
      "   categories  count\n",
      "1      python     95\n",
      "2        data     72\n",
      "3      devops     67\n",
      "4     testing     40\n",
      "5   analytics     14\n",
      "6       other      5\n",
      "7    security      5\n",
      "8       admin      4\n",
      "9          pm      1\n",
      "10    support      1\n"
     ]
    }
   ],
   "source": [
    "pd.set_option(\"display.max_rows\", None)\n",
    "\n",
    "# Count categories apperance and sort value in descending order\n",
    "categories = df.groupby(\"categories\")[\"categories\"].count().reset_index(name=\"count\").sort_values([\"count\"], ascending=False).reset_index(drop=True)\n",
    "categories.index = np.arange(1, len(categories)+1)\n",
    "print(categories)"
   ]
  },
  {
   "cell_type": "code",
   "execution_count": 4,
   "metadata": {},
   "outputs": [],
   "source": [
    "# Remove rows containing values listed in parenthesisis\n",
    "df = df[df[\"categories\"].str.contains(\"Java|.NET|Javascript|C++|C|C#|React|Scala|Golang|Embedded|Fullstack|\\[]\") == False]"
   ]
  },
  {
   "cell_type": "code",
   "execution_count": 5,
   "metadata": {},
   "outputs": [],
   "source": [
    "# Rename categories to match other data frame\n",
    "df.loc[df[\"categories\"].str.contains(\"Business Intelligence\", case=False), \"categories\"] = \"analytics\"\n",
    "df.loc[df[\"categories\"].str.contains(\"Business Analysis\", case=False), \"categories\"] = \"analytics\"\n",
    "df.loc[df[\"categories\"].str.contains(\"Big Data\", case=False), \"categories\"] = \"data\"\n",
    "df.loc[df[\"categories\"].str.contains(\"devops\", case=False), \"categories\"] = \"devops\"\n",
    "df.loc[df[\"categories\"].str.contains(\"Security\", case=False), \"categories\"] = \"security\"\n",
    "df.loc[df[\"categories\"].str.contains(\"testing\", case=False), \"categories\"] = \"testing\"\n",
    "df.loc[df[\"categories\"].str.contains(\"ai\", case=False), \"categories\"] = \"data\"\n",
    "df.loc[df[\"categories\"].str.contains(\"support\", case=False), \"categories\"] = \"support\"\n",
    "df.loc[df[\"categories\"].str.contains(\"it administrator\", case=False), \"categories\"] = \"admin\"\n",
    "df.loc[df[\"categories\"].str.contains(\"python\", case=False), \"categories\"] = \"python\"\n",
    "df.loc[df[\"categories\"].str.contains(\"backend\", case=False), \"categories\"] = \"python\"\n",
    "df.loc[df[\"categories\"].str.contains(\"mobile\", case=False), \"categories\"] = \"python\"\n",
    "df.loc[df[\"categories\"].str.contains(\"inne\", case=False), \"categories\"] = \"other\"\n",
    "df.loc[df[\"categories\"].str.contains(\"agile\", case=False), \"categories\"] = \"pm\"\n"
   ]
  },
  {
   "cell_type": "code",
   "execution_count": 6,
   "metadata": {},
   "outputs": [],
   "source": [
    "# Save CSV file\n",
    "df.to_csv(\"working_listings_nfj.csv\", index=False)"
   ]
  }
 ],
 "metadata": {
  "kernelspec": {
   "display_name": "Python 3",
   "language": "python",
   "name": "python3"
  },
  "language_info": {
   "codemirror_mode": {
    "name": "ipython",
    "version": 3
   },
   "file_extension": ".py",
   "mimetype": "text/x-python",
   "name": "python",
   "nbconvert_exporter": "python",
   "pygments_lexer": "ipython3",
   "version": "3.11.1"
  },
  "orig_nbformat": 4,
  "vscode": {
   "interpreter": {
    "hash": "3f8b6ed4a49bac3e03591468bfd89e920b32172a39df745a620198442fe4ce17"
   }
  }
 },
 "nbformat": 4,
 "nbformat_minor": 2
}
