{
 "cells": [
  {
   "cell_type": "code",
   "execution_count": 1,
   "metadata": {},
   "outputs": [],
   "source": [
    "import pandas as pd\n",
    "import numpy as np"
   ]
  },
  {
   "cell_type": "code",
   "execution_count": 9,
   "metadata": {},
   "outputs": [
    {
     "data": {
      "text/html": [
       "<div>\n",
       "<style scoped>\n",
       "    .dataframe tbody tr th:only-of-type {\n",
       "        vertical-align: middle;\n",
       "    }\n",
       "\n",
       "    .dataframe tbody tr th {\n",
       "        vertical-align: top;\n",
       "    }\n",
       "\n",
       "    .dataframe thead th {\n",
       "        text-align: right;\n",
       "    }\n",
       "</style>\n",
       "<table border=\"1\" class=\"dataframe\">\n",
       "  <thead>\n",
       "    <tr style=\"text-align: right;\">\n",
       "      <th></th>\n",
       "      <th>listing_name</th>\n",
       "      <th>categories</th>\n",
       "      <th>seniority</th>\n",
       "      <th>required_skills</th>\n",
       "    </tr>\n",
       "  </thead>\n",
       "  <tbody>\n",
       "    <tr>\n",
       "      <th>0</th>\n",
       "      <td>GoLang Backend Developer</td>\n",
       "      <td>[' Backend ', ' Golang ']</td>\n",
       "      <td>Mid</td>\n",
       "      <td>[' Golang ', ' Python ', ' Bash ', ' Go ', ' d...</td>\n",
       "    </tr>\n",
       "    <tr>\n",
       "      <th>1</th>\n",
       "      <td>Remote Python Developer</td>\n",
       "      <td>[' Backend ', ' Python ']</td>\n",
       "      <td>Mid</td>\n",
       "      <td>[' Python ', ' Docker ', ' Kubernetes ', ' SQL ']</td>\n",
       "    </tr>\n",
       "    <tr>\n",
       "      <th>2</th>\n",
       "      <td>Mid/Senior Python DevOps Engineer</td>\n",
       "      <td>[' DevOps ', ' Python ']</td>\n",
       "      <td>Mid, Senior</td>\n",
       "      <td>[' Python ', ' Bash ', ' Varnish ', ' Nginx ',...</td>\n",
       "    </tr>\n",
       "    <tr>\n",
       "      <th>3</th>\n",
       "      <td>BI Reporting</td>\n",
       "      <td>[' Business Intelligence ']</td>\n",
       "      <td>Mid</td>\n",
       "      <td>[' spotfire ', ' Python ', ' SQL ']</td>\n",
       "    </tr>\n",
       "    <tr>\n",
       "      <th>4</th>\n",
       "      <td>Azure Tech Lead</td>\n",
       "      <td>[' Business Intelligence ']</td>\n",
       "      <td>Senior</td>\n",
       "      <td>[' Azure ', ' Data Engineering ', ' SQL ', ' E...</td>\n",
       "    </tr>\n",
       "  </tbody>\n",
       "</table>\n",
       "</div>"
      ],
      "text/plain": [
       "                          listing_name                   categories  \\\n",
       "0            GoLang Backend Developer     [' Backend ', ' Golang ']   \n",
       "1             Remote Python Developer     [' Backend ', ' Python ']   \n",
       "2   Mid/Senior Python DevOps Engineer      [' DevOps ', ' Python ']   \n",
       "3                       BI Reporting    [' Business Intelligence ']   \n",
       "4                     Azure Tech Lead   [' Business Intelligence ']   \n",
       "\n",
       "       seniority                                    required_skills  \n",
       "0           Mid   [' Golang ', ' Python ', ' Bash ', ' Go ', ' d...  \n",
       "1           Mid   [' Python ', ' Docker ', ' Kubernetes ', ' SQL ']  \n",
       "2   Mid, Senior   [' Python ', ' Bash ', ' Varnish ', ' Nginx ',...  \n",
       "3           Mid                 [' spotfire ', ' Python ', ' SQL ']  \n",
       "4        Senior   [' Azure ', ' Data Engineering ', ' SQL ', ' E...  "
      ]
     },
     "execution_count": 9,
     "metadata": {},
     "output_type": "execute_result"
    }
   ],
   "source": [
    "# Read CSV file to data frame\n",
    "df = pd.read_csv(r\"C:\\Users\\lukas\\Code\\Scrapers\\nfj_data\\working_listings_nfj.csv\", encoding_errors=\"ignore\")\n",
    "df.head(5)"
   ]
  },
  {
   "cell_type": "code",
   "execution_count": 35,
   "metadata": {},
   "outputs": [
    {
     "name": "stdout",
     "output_type": "stream",
     "text": [
      "   categories  count\n",
      "1      python     95\n",
      "2        data     72\n",
      "3      devops     67\n",
      "4     testing     40\n",
      "5   analytics     14\n",
      "6       other      5\n",
      "7    security      5\n",
      "8       admin      4\n",
      "9          pm      1\n",
      "10    support      1\n"
     ]
    }
   ],
   "source": [
    "pd.set_option(\"display.max_rows\", None)\n",
    "\n",
    "# Count categories apperance and sort value in descending order\n",
    "categories = df.groupby(\"categories\")[\"categories\"].count().reset_index(name=\"count\").sort_values([\"count\"], ascending=False).reset_index(drop=True)\n",
    "categories.index = np.arange(1, len(categories)+1)\n",
    "print(categories)"
   ]
  },
  {
   "cell_type": "code",
   "execution_count": 34,
   "metadata": {},
   "outputs": [],
   "source": [
    "# Remove rows containing values listed in parenthesisis\n",
    "df = df[df[\"categories\"].str.contains(\"Java|.NET|Javascript|C++|C|C#|React|Scala|Golang|Embedded|Fullstack|\\[]\") == False]"
   ]
  },
  {
   "cell_type": "code",
   "execution_count": 10,
   "metadata": {},
   "outputs": [],
   "source": [
    "# Rename categories to match other data frame\n",
    "df.loc[df[\"categories\"].str.contains(\"Business Intelligence\", case=False), \"categories\"] = \"analytics\"\n",
    "df.loc[df[\"categories\"].str.contains(\"Business Analysis\", case=False), \"categories\"] = \"analytics\"\n",
    "df.loc[df[\"categories\"].str.contains(\"Big Data\", case=False), \"categories\"] = \"data\"\n",
    "df.loc[df[\"categories\"].str.contains(\"devops\", case=False), \"categories\"] = \"devops\"\n",
    "df.loc[df[\"categories\"].str.contains(\"Security\", case=False), \"categories\"] = \"security\"\n",
    "df.loc[df[\"categories\"].str.contains(\"testing\", case=False), \"categories\"] = \"testing\"\n",
    "df.loc[df[\"categories\"].str.contains(\"ai\", case=False), \"categories\"] = \"data\"\n",
    "df.loc[df[\"categories\"].str.contains(\"support\", case=False), \"categories\"] = \"support\"\n",
    "df.loc[df[\"categories\"].str.contains(\"it administrator\", case=False), \"categories\"] = \"admin\"\n",
    "df.loc[df[\"categories\"].str.contains(\"python\", case=False), \"categories\"] = \"python\"\n",
    "df.loc[df[\"categories\"].str.contains(\"backend\", case=False), \"categories\"] = \"python\"\n",
    "df.loc[df[\"categories\"].str.contains(\"mobile\", case=False), \"categories\"] = \"python\"\n",
    "df.loc[df[\"categories\"].str.contains(\"inne\", case=False), \"categories\"] = \"other\"\n",
    "df.loc[df[\"categories\"].str.contains(\"agile\", case=False), \"categories\"] = \"pm\"\n"
   ]
  },
  {
   "cell_type": "code",
   "execution_count": 36,
   "metadata": {},
   "outputs": [],
   "source": [
    "# Save CSV file\n",
    "df.to_csv(\"working_listings_nfj.csv\", index=False)"
   ]
  }
 ],
 "metadata": {
  "kernelspec": {
   "display_name": "Python 3",
   "language": "python",
   "name": "python3"
  },
  "language_info": {
   "codemirror_mode": {
    "name": "ipython",
    "version": 3
   },
   "file_extension": ".py",
   "mimetype": "text/x-python",
   "name": "python",
   "nbconvert_exporter": "python",
   "pygments_lexer": "ipython3",
   "version": "3.11.1"
  },
  "orig_nbformat": 4,
  "vscode": {
   "interpreter": {
    "hash": "3f8b6ed4a49bac3e03591468bfd89e920b32172a39df745a620198442fe4ce17"
   }
  }
 },
 "nbformat": 4,
 "nbformat_minor": 2
}
