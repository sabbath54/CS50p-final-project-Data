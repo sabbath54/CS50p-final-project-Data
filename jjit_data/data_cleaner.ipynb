{
 "cells": [
  {
   "cell_type": "code",
   "execution_count": 7,
   "metadata": {},
   "outputs": [],
   "source": [
    "import pandas as pd\n",
    "import os\n"
   ]
  },
  {
   "cell_type": "code",
   "execution_count": 30,
   "metadata": {},
   "outputs": [
    {
     "data": {
      "text/html": [
       "<div>\n",
       "<style scoped>\n",
       "    .dataframe tbody tr th:only-of-type {\n",
       "        vertical-align: middle;\n",
       "    }\n",
       "\n",
       "    .dataframe tbody tr th {\n",
       "        vertical-align: top;\n",
       "    }\n",
       "\n",
       "    .dataframe thead th {\n",
       "        text-align: right;\n",
       "    }\n",
       "</style>\n",
       "<table border=\"1\" class=\"dataframe\">\n",
       "  <thead>\n",
       "    <tr style=\"text-align: right;\">\n",
       "      <th></th>\n",
       "      <th>listing_name</th>\n",
       "      <th>categories</th>\n",
       "      <th>seniority</th>\n",
       "      <th>required_skills</th>\n",
       "    </tr>\n",
       "  </thead>\n",
       "  <tbody>\n",
       "    <tr>\n",
       "      <th>0</th>\n",
       "      <td>Programista ds. Automatyzacji Testw</td>\n",
       "      <td>testing</td>\n",
       "      <td>mid</td>\n",
       "      <td>['Java', 'Python', 'JavaScript', 'Selenium', '...</td>\n",
       "    </tr>\n",
       "    <tr>\n",
       "      <th>1</th>\n",
       "      <td>Data Engineer</td>\n",
       "      <td>data</td>\n",
       "      <td>mid</td>\n",
       "      <td>['Python', 'ETL', 'Spark', 'RDBMS', 'PySpark',...</td>\n",
       "    </tr>\n",
       "    <tr>\n",
       "      <th>2</th>\n",
       "      <td>Golang/Python Software Engineer</td>\n",
       "      <td>python</td>\n",
       "      <td>mid</td>\n",
       "      <td>['Python', 'Kubernetes', 'Golang', 'Docker', '...</td>\n",
       "    </tr>\n",
       "    <tr>\n",
       "      <th>3</th>\n",
       "      <td>Big Data Engineer Want-To-Be</td>\n",
       "      <td>data</td>\n",
       "      <td>junior</td>\n",
       "      <td>['Python', 'Java', 'Big Data', 'Scala', 'Cloud...</td>\n",
       "    </tr>\n",
       "    <tr>\n",
       "      <th>4</th>\n",
       "      <td>NLP Developer</td>\n",
       "      <td>python</td>\n",
       "      <td>senior</td>\n",
       "      <td>['NLP', 'Polish', 'English', 'PyTorch', 'AI/ML...</td>\n",
       "    </tr>\n",
       "  </tbody>\n",
       "</table>\n",
       "</div>"
      ],
      "text/plain": [
       "                          listing_name categories seniority  \\\n",
       "0  Programista ds. Automatyzacji Testw    testing       mid   \n",
       "1                        Data Engineer       data       mid   \n",
       "2      Golang/Python Software Engineer     python       mid   \n",
       "3         Big Data Engineer Want-To-Be       data    junior   \n",
       "4                        NLP Developer     python    senior   \n",
       "\n",
       "                                     required_skills  \n",
       "0  ['Java', 'Python', 'JavaScript', 'Selenium', '...  \n",
       "1  ['Python', 'ETL', 'Spark', 'RDBMS', 'PySpark',...  \n",
       "2  ['Python', 'Kubernetes', 'Golang', 'Docker', '...  \n",
       "3  ['Python', 'Java', 'Big Data', 'Scala', 'Cloud...  \n",
       "4  ['NLP', 'Polish', 'English', 'PyTorch', 'AI/ML...  "
      ]
     },
     "execution_count": 30,
     "metadata": {},
     "output_type": "execute_result"
    }
   ],
   "source": [
    "df = pd.read_csv(r\"C:\\Users\\lukas\\COde\\Scrapers\\jjit_data\\working_listings_jjit.csv\", encoding_errors=\"ignore\")\n",
    "df.head()"
   ]
  },
  {
   "cell_type": "code",
   "execution_count": 45,
   "metadata": {},
   "outputs": [
    {
     "data": {
      "text/plain": [
       "categories\n",
       "admin            17\n",
       "analytics         5\n",
       "architecture      3\n",
       "c                19\n",
       "data             79\n",
       "devops           56\n",
       "go                4\n",
       "java             13\n",
       "javascript       13\n",
       "net              12\n",
       "other             3\n",
       "php               1\n",
       "pm                4\n",
       "python          148\n",
       "ruby              2\n",
       "scala             2\n",
       "security          4\n",
       "support           7\n",
       "testing          44\n",
       "Name: categories, dtype: int64"
      ]
     },
     "execution_count": 45,
     "metadata": {},
     "output_type": "execute_result"
    }
   ],
   "source": [
    "categories = df.groupby(\"categories\")[\"categories\"].count()\n",
    "categories.head(60)"
   ]
  }
 ],
 "metadata": {
  "kernelspec": {
   "display_name": "Python 3",
   "language": "python",
   "name": "python3"
  },
  "language_info": {
   "codemirror_mode": {
    "name": "ipython",
    "version": 3
   },
   "file_extension": ".py",
   "mimetype": "text/x-python",
   "name": "python",
   "nbconvert_exporter": "python",
   "pygments_lexer": "ipython3",
   "version": "3.11.1"
  },
  "orig_nbformat": 4,
  "vscode": {
   "interpreter": {
    "hash": "3f8b6ed4a49bac3e03591468bfd89e920b32172a39df745a620198442fe4ce17"
   }
  }
 },
 "nbformat": 4,
 "nbformat_minor": 2
}
