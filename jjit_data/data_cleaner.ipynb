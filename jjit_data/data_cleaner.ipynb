{
 "cells": [
  {
   "cell_type": "code",
   "execution_count": 2,
   "metadata": {},
   "outputs": [],
   "source": [
    "import pandas as pd\n",
    "import numpy as np\n"
   ]
  },
  {
   "cell_type": "code",
   "execution_count": 3,
   "metadata": {},
   "outputs": [
    {
     "data": {
      "text/html": [
       "<div>\n",
       "<style scoped>\n",
       "    .dataframe tbody tr th:only-of-type {\n",
       "        vertical-align: middle;\n",
       "    }\n",
       "\n",
       "    .dataframe tbody tr th {\n",
       "        vertical-align: top;\n",
       "    }\n",
       "\n",
       "    .dataframe thead th {\n",
       "        text-align: right;\n",
       "    }\n",
       "</style>\n",
       "<table border=\"1\" class=\"dataframe\">\n",
       "  <thead>\n",
       "    <tr style=\"text-align: right;\">\n",
       "      <th></th>\n",
       "      <th>listing_name</th>\n",
       "      <th>categories</th>\n",
       "      <th>seniority</th>\n",
       "      <th>required_skills</th>\n",
       "    </tr>\n",
       "  </thead>\n",
       "  <tbody>\n",
       "    <tr>\n",
       "      <th>0</th>\n",
       "      <td>Programista ds. Automatyzacji Testw</td>\n",
       "      <td>testing</td>\n",
       "      <td>mid</td>\n",
       "      <td>['Java', 'Python', 'JavaScript', 'Selenium', '...</td>\n",
       "    </tr>\n",
       "    <tr>\n",
       "      <th>1</th>\n",
       "      <td>Data Engineer</td>\n",
       "      <td>data</td>\n",
       "      <td>mid</td>\n",
       "      <td>['Python', 'ETL', 'Spark', 'RDBMS', 'PySpark',...</td>\n",
       "    </tr>\n",
       "    <tr>\n",
       "      <th>2</th>\n",
       "      <td>Golang/Python Software Engineer</td>\n",
       "      <td>python</td>\n",
       "      <td>mid</td>\n",
       "      <td>['Python', 'Kubernetes', 'Golang', 'Docker', '...</td>\n",
       "    </tr>\n",
       "    <tr>\n",
       "      <th>3</th>\n",
       "      <td>Big Data Engineer Want-To-Be</td>\n",
       "      <td>data</td>\n",
       "      <td>junior</td>\n",
       "      <td>['Python', 'Java', 'Big Data', 'Scala', 'Cloud...</td>\n",
       "    </tr>\n",
       "    <tr>\n",
       "      <th>4</th>\n",
       "      <td>NLP Developer</td>\n",
       "      <td>python</td>\n",
       "      <td>senior</td>\n",
       "      <td>['NLP', 'Polish', 'English', 'PyTorch', 'AI/ML...</td>\n",
       "    </tr>\n",
       "  </tbody>\n",
       "</table>\n",
       "</div>"
      ],
      "text/plain": [
       "                          listing_name categories seniority  \\\n",
       "0  Programista ds. Automatyzacji Testw    testing       mid   \n",
       "1                        Data Engineer       data       mid   \n",
       "2      Golang/Python Software Engineer     python       mid   \n",
       "3         Big Data Engineer Want-To-Be       data    junior   \n",
       "4                        NLP Developer     python    senior   \n",
       "\n",
       "                                     required_skills  \n",
       "0  ['Java', 'Python', 'JavaScript', 'Selenium', '...  \n",
       "1  ['Python', 'ETL', 'Spark', 'RDBMS', 'PySpark',...  \n",
       "2  ['Python', 'Kubernetes', 'Golang', 'Docker', '...  \n",
       "3  ['Python', 'Java', 'Big Data', 'Scala', 'Cloud...  \n",
       "4  ['NLP', 'Polish', 'English', 'PyTorch', 'AI/ML...  "
      ]
     },
     "execution_count": 3,
     "metadata": {},
     "output_type": "execute_result"
    }
   ],
   "source": [
    "# Read in a CSV file and ignore encoding errors\n",
    "df = pd.read_csv(r\"C:\\Users\\lukas\\COde\\Scrapers\\jjit_data\\working_listings_jjit.csv\", encoding_errors=\"ignore\")\n",
    "df.head()"
   ]
  },
  {
   "cell_type": "code",
   "execution_count": 4,
   "metadata": {},
   "outputs": [
    {
     "data": {
      "text/html": [
       "<div>\n",
       "<style scoped>\n",
       "    .dataframe tbody tr th:only-of-type {\n",
       "        vertical-align: middle;\n",
       "    }\n",
       "\n",
       "    .dataframe tbody tr th {\n",
       "        vertical-align: top;\n",
       "    }\n",
       "\n",
       "    .dataframe thead th {\n",
       "        text-align: right;\n",
       "    }\n",
       "</style>\n",
       "<table border=\"1\" class=\"dataframe\">\n",
       "  <thead>\n",
       "    <tr style=\"text-align: right;\">\n",
       "      <th></th>\n",
       "      <th>categories</th>\n",
       "      <th>count</th>\n",
       "    </tr>\n",
       "  </thead>\n",
       "  <tbody>\n",
       "    <tr>\n",
       "      <th>1</th>\n",
       "      <td>python</td>\n",
       "      <td>148</td>\n",
       "    </tr>\n",
       "    <tr>\n",
       "      <th>2</th>\n",
       "      <td>data</td>\n",
       "      <td>79</td>\n",
       "    </tr>\n",
       "    <tr>\n",
       "      <th>3</th>\n",
       "      <td>devops</td>\n",
       "      <td>56</td>\n",
       "    </tr>\n",
       "    <tr>\n",
       "      <th>4</th>\n",
       "      <td>testing</td>\n",
       "      <td>44</td>\n",
       "    </tr>\n",
       "    <tr>\n",
       "      <th>5</th>\n",
       "      <td>admin</td>\n",
       "      <td>17</td>\n",
       "    </tr>\n",
       "    <tr>\n",
       "      <th>6</th>\n",
       "      <td>support</td>\n",
       "      <td>7</td>\n",
       "    </tr>\n",
       "    <tr>\n",
       "      <th>7</th>\n",
       "      <td>analytics</td>\n",
       "      <td>5</td>\n",
       "    </tr>\n",
       "    <tr>\n",
       "      <th>8</th>\n",
       "      <td>pm</td>\n",
       "      <td>4</td>\n",
       "    </tr>\n",
       "    <tr>\n",
       "      <th>9</th>\n",
       "      <td>security</td>\n",
       "      <td>4</td>\n",
       "    </tr>\n",
       "    <tr>\n",
       "      <th>10</th>\n",
       "      <td>architecture</td>\n",
       "      <td>3</td>\n",
       "    </tr>\n",
       "    <tr>\n",
       "      <th>11</th>\n",
       "      <td>other</td>\n",
       "      <td>3</td>\n",
       "    </tr>\n",
       "  </tbody>\n",
       "</table>\n",
       "</div>"
      ],
      "text/plain": [
       "      categories  count\n",
       "1         python    148\n",
       "2           data     79\n",
       "3         devops     56\n",
       "4        testing     44\n",
       "5          admin     17\n",
       "6        support      7\n",
       "7      analytics      5\n",
       "8             pm      4\n",
       "9       security      4\n",
       "10  architecture      3\n",
       "11         other      3"
      ]
     },
     "execution_count": 4,
     "metadata": {},
     "output_type": "execute_result"
    }
   ],
   "source": [
    "# Count all categories apperances and sort it in descending order\n",
    "categories = df.groupby(\"categories\")[\"categories\"].count().reset_index(name=\"count\").sort_values([\"count\"], ascending=False).reset_index(drop=True)\n",
    "categories.index = np.arange(1, len(categories)+1)\n",
    "categories.head(13)"
   ]
  },
  {
   "cell_type": "code",
   "execution_count": 5,
   "metadata": {},
   "outputs": [],
   "source": [
    "# Get rid off categories that are not relevant\n",
    "df.drop(df.loc[df[\"categories\"].isin([\"php\", \"scala\", \"ruby\", \"go\", \"net\", \"java\", \"javascript\", \"c\"])].index, inplace=True)"
   ]
  },
  {
   "cell_type": "code",
   "execution_count": 8,
   "metadata": {},
   "outputs": [
    {
     "name": "stdout",
     "output_type": "stream",
     "text": [
      "                             listing_name categories seniority  \\\n",
      "2         Golang/Python Software Engineer     python       mid   \n",
      "4                           NLP Developer     python    senior   \n",
      "5                Lead Full Stack Engineer     python    senior   \n",
      "8                        Python Developer     python       mid   \n",
      "10                       Support Engineer     python       mid   \n",
      "..                                    ...        ...       ...   \n",
      "360               Remote Python Developer     python       mid   \n",
      "361            Python FullStack Developer     python    senior   \n",
      "364               Junior Python Developer     python    junior   \n",
      "366  Remote Mid Data Engineer with Python     python       mid   \n",
      "368           Remote Senior Data Engineer     python    senior   \n",
      "\n",
      "                                       required_skills  \n",
      "2    ['Python', 'Kubernetes', 'Golang', 'Docker', '...  \n",
      "4    ['NLP', 'Polish', 'English', 'PyTorch', 'AI/ML...  \n",
      "5    ['Python', 'Django', 'Vue.js', 'Nuxt', 'JavaSc...  \n",
      "8    ['Polish', 'Python', 'Linux', 'English', 'MySQ...  \n",
      "10   ['Python', 'PySpark', 'SQL', 'Java', 'JavaScri...  \n",
      "..                                                 ...  \n",
      "360             ['Python', 'English', 'HTTP protocol']  \n",
      "361  ['Python', 'Django', 'ReactJS', 'REST API', 'C...  \n",
      "364  ['Python', 'Linux', 'Git', 'REST', 'DevOps', '...  \n",
      "366  ['Python', 'SQL', 'Scala', 'Databases', 'Apach...  \n",
      "368  ['Python', 'ETL', 'ETL tools', 'Databases', 'M...  \n",
      "\n",
      "[148 rows x 4 columns]\n"
     ]
    }
   ],
   "source": [
    "pd.set_option(\"display.max_rows\", 10)\n",
    "print(df.loc[df[\"categories\"]==\"python\"])"
   ]
  },
  {
   "cell_type": "code",
   "execution_count": 7,
   "metadata": {},
   "outputs": [],
   "source": [
    "# Save cleaned file to CSV\n",
    "df.to_csv(\"working_listings_jjit.csv\", index=False)"
   ]
  }
 ],
 "metadata": {
  "kernelspec": {
   "display_name": "Python 3",
   "language": "python",
   "name": "python3"
  },
  "language_info": {
   "codemirror_mode": {
    "name": "ipython",
    "version": 3
   },
   "file_extension": ".py",
   "mimetype": "text/x-python",
   "name": "python",
   "nbconvert_exporter": "python",
   "pygments_lexer": "ipython3",
   "version": "3.11.1"
  },
  "orig_nbformat": 4,
  "vscode": {
   "interpreter": {
    "hash": "3f8b6ed4a49bac3e03591468bfd89e920b32172a39df745a620198442fe4ce17"
   }
  }
 },
 "nbformat": 4,
 "nbformat_minor": 2
}
