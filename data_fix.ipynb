{
 "cells": [
  {
   "cell_type": "code",
   "execution_count": 1,
   "metadata": {},
   "outputs": [],
   "source": [
    "import pandas as pd"
   ]
  },
  {
   "cell_type": "code",
   "execution_count": 2,
   "metadata": {},
   "outputs": [],
   "source": [
    "# Load CSV file into a DataFrame\n",
    "df = pd.read_csv(r\"C:\\Users\\lukas\\Code\\Scrapers\\data.csv\")"
   ]
  },
  {
   "cell_type": "code",
   "execution_count": 3,
   "metadata": {},
   "outputs": [],
   "source": [
    "# Capitalize the strings in the 'categories' column\n",
    "df['categories'] = df['categories'].str.capitalize()"
   ]
  },
  {
   "cell_type": "code",
   "execution_count": 4,
   "metadata": {},
   "outputs": [],
   "source": [
    "# Rename seniority labels to make only three possibilities Junior, Mid, Senior. One scraped website had only this 3 possibilities and it was creating inconsistency\n",
    "df[\"seniority\"] = df[\"seniority\"].replace({\"Trainee\": \"Junior\", \"Trainee, Junior\": \"Junior\"})\n",
    "df[\"seniority\"] = df[\"seniority\"].replace({\"Mid, Senior\": \"Mid\"})\n",
    "df[\"seniority\"] = df[\"seniority\"].replace({\"Senior, Expert\": \"Senior\", \"Expert\": \"Senior\"})"
   ]
  },
  {
   "cell_type": "code",
   "execution_count": 5,
   "metadata": {},
   "outputs": [],
   "source": [
    "# Save data\n",
    "df.to_csv(\"data.csv\", index=False)"
   ]
  }
 ],
 "metadata": {
  "kernelspec": {
   "display_name": "Python 3",
   "language": "python",
   "name": "python3"
  },
  "language_info": {
   "codemirror_mode": {
    "name": "ipython",
    "version": 3
   },
   "file_extension": ".py",
   "mimetype": "text/x-python",
   "name": "python",
   "nbconvert_exporter": "python",
   "pygments_lexer": "ipython3",
   "version": "3.11.1"
  },
  "orig_nbformat": 4
 },
 "nbformat": 4,
 "nbformat_minor": 2
}
