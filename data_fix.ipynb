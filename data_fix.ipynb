{
 "cells": [
  {
   "cell_type": "code",
   "execution_count": 15,
   "metadata": {},
   "outputs": [],
   "source": [
    "import pandas as pd"
   ]
  },
  {
   "cell_type": "code",
   "execution_count": 16,
   "metadata": {},
   "outputs": [],
   "source": [
    "# Load CSV file into a DataFrame\n",
    "df = pd.read_csv(r\"C:\\Users\\lukas\\Code\\Scrapers\\data.csv\")"
   ]
  },
  {
   "cell_type": "code",
   "execution_count": 17,
   "metadata": {},
   "outputs": [
    {
     "data": {
      "text/html": [
       "<div>\n",
       "<style scoped>\n",
       "    .dataframe tbody tr th:only-of-type {\n",
       "        vertical-align: middle;\n",
       "    }\n",
       "\n",
       "    .dataframe tbody tr th {\n",
       "        vertical-align: top;\n",
       "    }\n",
       "\n",
       "    .dataframe thead th {\n",
       "        text-align: right;\n",
       "    }\n",
       "</style>\n",
       "<table border=\"1\" class=\"dataframe\">\n",
       "  <thead>\n",
       "    <tr style=\"text-align: right;\">\n",
       "      <th></th>\n",
       "      <th>listing_name</th>\n",
       "      <th>categories</th>\n",
       "      <th>seniority</th>\n",
       "      <th>required_skills</th>\n",
       "    </tr>\n",
       "  </thead>\n",
       "  <tbody>\n",
       "    <tr>\n",
       "      <th>0</th>\n",
       "      <td>Programista ds. Automatyzacji Testw</td>\n",
       "      <td>Testing</td>\n",
       "      <td>Mid</td>\n",
       "      <td>['Java', 'Python', 'JavaScript', 'Selenium', '...</td>\n",
       "    </tr>\n",
       "    <tr>\n",
       "      <th>1</th>\n",
       "      <td>Data Engineer</td>\n",
       "      <td>Data</td>\n",
       "      <td>Mid</td>\n",
       "      <td>['Python', 'ETL', 'Spark', 'RDBMS', 'PySpark',...</td>\n",
       "    </tr>\n",
       "    <tr>\n",
       "      <th>2</th>\n",
       "      <td>Golang/Python Software Engineer</td>\n",
       "      <td>Python</td>\n",
       "      <td>Mid</td>\n",
       "      <td>['Python', 'Kubernetes', 'Golang', 'Docker', '...</td>\n",
       "    </tr>\n",
       "    <tr>\n",
       "      <th>3</th>\n",
       "      <td>Big Data Engineer Want-To-Be</td>\n",
       "      <td>Data</td>\n",
       "      <td>Junior</td>\n",
       "      <td>['Python', 'Java', 'Big Data', 'Scala', 'Cloud...</td>\n",
       "    </tr>\n",
       "    <tr>\n",
       "      <th>4</th>\n",
       "      <td>NLP Developer</td>\n",
       "      <td>Python</td>\n",
       "      <td>Senior</td>\n",
       "      <td>['NLP', 'Polish', 'English', 'PyTorch', 'AI/ML...</td>\n",
       "    </tr>\n",
       "  </tbody>\n",
       "</table>\n",
       "</div>"
      ],
      "text/plain": [
       "                          listing_name categories seniority  \\\n",
       "0  Programista ds. Automatyzacji Testw    Testing       Mid   \n",
       "1                        Data Engineer       Data       Mid   \n",
       "2      Golang/Python Software Engineer     Python       Mid   \n",
       "3         Big Data Engineer Want-To-Be       Data    Junior   \n",
       "4                        NLP Developer     Python    Senior   \n",
       "\n",
       "                                     required_skills  \n",
       "0  ['Java', 'Python', 'JavaScript', 'Selenium', '...  \n",
       "1  ['Python', 'ETL', 'Spark', 'RDBMS', 'PySpark',...  \n",
       "2  ['Python', 'Kubernetes', 'Golang', 'Docker', '...  \n",
       "3  ['Python', 'Java', 'Big Data', 'Scala', 'Cloud...  \n",
       "4  ['NLP', 'Polish', 'English', 'PyTorch', 'AI/ML...  "
      ]
     },
     "execution_count": 17,
     "metadata": {},
     "output_type": "execute_result"
    }
   ],
   "source": [
    "# Capitalize the strings in the 'categories' column\n",
    "df['categories'] = df['categories'].str.capitalize()\n",
    "df.head()"
   ]
  },
  {
   "cell_type": "code",
   "execution_count": 18,
   "metadata": {},
   "outputs": [],
   "source": [
    "# Rename seniority labels to make only three possibilities Junior, Mid, Senior. One scraped website had only this 3 possibilities and it was creating inconsistency\n",
    "df[\"seniority\"] = df[\"seniority\"].replace({\"Trainee\": \"Junior\", \"Trainee, Junior\": \"Junior\"})\n",
    "df[\"seniority\"] = df[\"seniority\"].replace({\"Mid, Senior\": \"Mid\"})\n",
    "df[\"seniority\"] = df[\"seniority\"].replace({\"Senior, Expert\": \"Senior\", \"Expert\": \"Senior\"})"
   ]
  },
  {
   "cell_type": "code",
   "execution_count": 19,
   "metadata": {},
   "outputs": [],
   "source": [
    "# Save data\n",
    "df.to_csv(\"data.csv\", index=False)"
   ]
  }
 ],
 "metadata": {
  "kernelspec": {
   "display_name": "Python 3",
   "language": "python",
   "name": "python3"
  },
  "language_info": {
   "codemirror_mode": {
    "name": "ipython",
    "version": 3
   },
   "file_extension": ".py",
   "mimetype": "text/x-python",
   "name": "python",
   "nbconvert_exporter": "python",
   "pygments_lexer": "ipython3",
   "version": "3.11.1"
  },
  "orig_nbformat": 4
 },
 "nbformat": 4,
 "nbformat_minor": 2
}
